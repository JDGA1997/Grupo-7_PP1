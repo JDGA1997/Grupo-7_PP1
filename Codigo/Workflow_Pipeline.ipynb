{
  "nbformat": 4,
  "nbformat_minor": 0,
  "metadata": {
    "colab": {
      "provenance": []
    },
    "kernelspec": {
      "name": "python3",
      "display_name": "Python 3"
    },
    "language_info": {
      "name": "python"
    }
  },
  "cells": [
    {
      "cell_type": "markdown",
      "source": [
        "Carga del archivo .csv"
      ],
      "metadata": {
        "id": "w5ij2RUrfLj3"
      }
    },
    {
      "cell_type": "code",
      "source": [
        "from google.colab import files\n",
        "\n",
        "# Subir un archivo CSV a Google Colab\n",
        "uploaded = files.upload()"
      ],
      "metadata": {
        "colab": {
          "base_uri": "https://localhost:8080/",
          "height": 73
        },
        "id": "0x-SYFRtu88D",
        "outputId": "c7230c41-d9db-4ae4-abb9-5eebbf801493"
      },
      "execution_count": null,
      "outputs": [
        {
          "output_type": "display_data",
          "data": {
            "text/plain": [
              "<IPython.core.display.HTML object>"
            ],
            "text/html": [
              "\n",
              "     <input type=\"file\" id=\"files-e1ced797-2189-4f53-9ced-4488da137fe3\" name=\"files[]\" multiple disabled\n",
              "        style=\"border:none\" />\n",
              "     <output id=\"result-e1ced797-2189-4f53-9ced-4488da137fe3\">\n",
              "      Upload widget is only available when the cell has been executed in the\n",
              "      current browser session. Please rerun this cell to enable.\n",
              "      </output>\n",
              "      <script>// Copyright 2017 Google LLC\n",
              "//\n",
              "// Licensed under the Apache License, Version 2.0 (the \"License\");\n",
              "// you may not use this file except in compliance with the License.\n",
              "// You may obtain a copy of the License at\n",
              "//\n",
              "//      http://www.apache.org/licenses/LICENSE-2.0\n",
              "//\n",
              "// Unless required by applicable law or agreed to in writing, software\n",
              "// distributed under the License is distributed on an \"AS IS\" BASIS,\n",
              "// WITHOUT WARRANTIES OR CONDITIONS OF ANY KIND, either express or implied.\n",
              "// See the License for the specific language governing permissions and\n",
              "// limitations under the License.\n",
              "\n",
              "/**\n",
              " * @fileoverview Helpers for google.colab Python module.\n",
              " */\n",
              "(function(scope) {\n",
              "function span(text, styleAttributes = {}) {\n",
              "  const element = document.createElement('span');\n",
              "  element.textContent = text;\n",
              "  for (const key of Object.keys(styleAttributes)) {\n",
              "    element.style[key] = styleAttributes[key];\n",
              "  }\n",
              "  return element;\n",
              "}\n",
              "\n",
              "// Max number of bytes which will be uploaded at a time.\n",
              "const MAX_PAYLOAD_SIZE = 100 * 1024;\n",
              "\n",
              "function _uploadFiles(inputId, outputId) {\n",
              "  const steps = uploadFilesStep(inputId, outputId);\n",
              "  const outputElement = document.getElementById(outputId);\n",
              "  // Cache steps on the outputElement to make it available for the next call\n",
              "  // to uploadFilesContinue from Python.\n",
              "  outputElement.steps = steps;\n",
              "\n",
              "  return _uploadFilesContinue(outputId);\n",
              "}\n",
              "\n",
              "// This is roughly an async generator (not supported in the browser yet),\n",
              "// where there are multiple asynchronous steps and the Python side is going\n",
              "// to poll for completion of each step.\n",
              "// This uses a Promise to block the python side on completion of each step,\n",
              "// then passes the result of the previous step as the input to the next step.\n",
              "function _uploadFilesContinue(outputId) {\n",
              "  const outputElement = document.getElementById(outputId);\n",
              "  const steps = outputElement.steps;\n",
              "\n",
              "  const next = steps.next(outputElement.lastPromiseValue);\n",
              "  return Promise.resolve(next.value.promise).then((value) => {\n",
              "    // Cache the last promise value to make it available to the next\n",
              "    // step of the generator.\n",
              "    outputElement.lastPromiseValue = value;\n",
              "    return next.value.response;\n",
              "  });\n",
              "}\n",
              "\n",
              "/**\n",
              " * Generator function which is called between each async step of the upload\n",
              " * process.\n",
              " * @param {string} inputId Element ID of the input file picker element.\n",
              " * @param {string} outputId Element ID of the output display.\n",
              " * @return {!Iterable<!Object>} Iterable of next steps.\n",
              " */\n",
              "function* uploadFilesStep(inputId, outputId) {\n",
              "  const inputElement = document.getElementById(inputId);\n",
              "  inputElement.disabled = false;\n",
              "\n",
              "  const outputElement = document.getElementById(outputId);\n",
              "  outputElement.innerHTML = '';\n",
              "\n",
              "  const pickedPromise = new Promise((resolve) => {\n",
              "    inputElement.addEventListener('change', (e) => {\n",
              "      resolve(e.target.files);\n",
              "    });\n",
              "  });\n",
              "\n",
              "  const cancel = document.createElement('button');\n",
              "  inputElement.parentElement.appendChild(cancel);\n",
              "  cancel.textContent = 'Cancel upload';\n",
              "  const cancelPromise = new Promise((resolve) => {\n",
              "    cancel.onclick = () => {\n",
              "      resolve(null);\n",
              "    };\n",
              "  });\n",
              "\n",
              "  // Wait for the user to pick the files.\n",
              "  const files = yield {\n",
              "    promise: Promise.race([pickedPromise, cancelPromise]),\n",
              "    response: {\n",
              "      action: 'starting',\n",
              "    }\n",
              "  };\n",
              "\n",
              "  cancel.remove();\n",
              "\n",
              "  // Disable the input element since further picks are not allowed.\n",
              "  inputElement.disabled = true;\n",
              "\n",
              "  if (!files) {\n",
              "    return {\n",
              "      response: {\n",
              "        action: 'complete',\n",
              "      }\n",
              "    };\n",
              "  }\n",
              "\n",
              "  for (const file of files) {\n",
              "    const li = document.createElement('li');\n",
              "    li.append(span(file.name, {fontWeight: 'bold'}));\n",
              "    li.append(span(\n",
              "        `(${file.type || 'n/a'}) - ${file.size} bytes, ` +\n",
              "        `last modified: ${\n",
              "            file.lastModifiedDate ? file.lastModifiedDate.toLocaleDateString() :\n",
              "                                    'n/a'} - `));\n",
              "    const percent = span('0% done');\n",
              "    li.appendChild(percent);\n",
              "\n",
              "    outputElement.appendChild(li);\n",
              "\n",
              "    const fileDataPromise = new Promise((resolve) => {\n",
              "      const reader = new FileReader();\n",
              "      reader.onload = (e) => {\n",
              "        resolve(e.target.result);\n",
              "      };\n",
              "      reader.readAsArrayBuffer(file);\n",
              "    });\n",
              "    // Wait for the data to be ready.\n",
              "    let fileData = yield {\n",
              "      promise: fileDataPromise,\n",
              "      response: {\n",
              "        action: 'continue',\n",
              "      }\n",
              "    };\n",
              "\n",
              "    // Use a chunked sending to avoid message size limits. See b/62115660.\n",
              "    let position = 0;\n",
              "    do {\n",
              "      const length = Math.min(fileData.byteLength - position, MAX_PAYLOAD_SIZE);\n",
              "      const chunk = new Uint8Array(fileData, position, length);\n",
              "      position += length;\n",
              "\n",
              "      const base64 = btoa(String.fromCharCode.apply(null, chunk));\n",
              "      yield {\n",
              "        response: {\n",
              "          action: 'append',\n",
              "          file: file.name,\n",
              "          data: base64,\n",
              "        },\n",
              "      };\n",
              "\n",
              "      let percentDone = fileData.byteLength === 0 ?\n",
              "          100 :\n",
              "          Math.round((position / fileData.byteLength) * 100);\n",
              "      percent.textContent = `${percentDone}% done`;\n",
              "\n",
              "    } while (position < fileData.byteLength);\n",
              "  }\n",
              "\n",
              "  // All done.\n",
              "  yield {\n",
              "    response: {\n",
              "      action: 'complete',\n",
              "    }\n",
              "  };\n",
              "}\n",
              "\n",
              "scope.google = scope.google || {};\n",
              "scope.google.colab = scope.google.colab || {};\n",
              "scope.google.colab._files = {\n",
              "  _uploadFiles,\n",
              "  _uploadFilesContinue,\n",
              "};\n",
              "})(self);\n",
              "</script> "
            ]
          },
          "metadata": {}
        },
        {
          "output_type": "stream",
          "name": "stdout",
          "text": [
            "Saving ventas_electronica.csv to ventas_electronica.csv\n"
          ]
        }
      ]
    },
    {
      "cell_type": "code",
      "source": [
        "### Pieza de codigo para detectar codificacion del archivo\n",
        "import chardet\n",
        "\n",
        "with open('/content/ventas_electronica.csv', 'rb') as file:\n",
        "  rawdata = file.read()\n",
        "  result = chardet.detect(rawdata)\n",
        "  encoding = result['encoding']\n",
        "  print(f'the detected encoding is (encoding)')"
      ],
      "metadata": {
        "colab": {
          "base_uri": "https://localhost:8080/"
        },
        "id": "QfenHDmP0JG6",
        "outputId": "2acf68cd-7504-4977-d233-98a70ac2e0d3"
      },
      "execution_count": null,
      "outputs": [
        {
          "output_type": "stream",
          "name": "stdout",
          "text": [
            "the detected encoding is (encoding)\n"
          ]
        }
      ]
    },
    {
      "cell_type": "code",
      "source": [
        "### Pieza de codigo para transformar la codificacion 'Windows-1252' del archivo a 'UTF-8'\n",
        "import codecs\n",
        "\n",
        "# Abrir el archivo .csv con codificación Windows-1252 ('cp1252')\n",
        "with codecs.open('/content/ventas_electronica.csv', 'r', encoding='cp1252') as file:\n",
        "  content = file.read()\n",
        "\n",
        "# Abrir y sobreescribir con un nuevo archivo .csv con codificación UTF-8\n",
        "with codecs.open('/content/ventas_electronica.csv','w', encoding='utf-8') as file:\n",
        "  file.write(content)"
      ],
      "metadata": {
        "id": "bX0Lr_B348dc"
      },
      "execution_count": null,
      "outputs": []
    },
    {
      "cell_type": "markdown",
      "source": [
        "Importar bibliotecas"
      ],
      "metadata": {
        "id": "oAe2nlRWFCkq"
      }
    },
    {
      "cell_type": "code",
      "source": [
        "import numpy as np\n",
        "import pandas as pd\n",
        "import matplotlib.pyplot as plt\n",
        "import seaborn as sns\n",
        "from sklearn.model_selection import train_test_split\n",
        "from sklearn.linear_model import LinearRegression\n",
        "import scipy.stats"
      ],
      "metadata": {
        "id": "3qnbMSnDFIie"
      },
      "execution_count": null,
      "outputs": []
    },
    {
      "cell_type": "markdown",
      "source": [
        "Carga del Dataframe desde archivo CSV"
      ],
      "metadata": {
        "id": "LRmpp-P2EG7s"
      }
    },
    {
      "cell_type": "code",
      "source": [
        "df = pd.read_csv('/content/ventas_electronica.csv')"
      ],
      "metadata": {
        "id": "g-f_6TIB-Ybs"
      },
      "execution_count": null,
      "outputs": []
    },
    {
      "cell_type": "markdown",
      "source": [
        "Análisis exploratorio:"
      ],
      "metadata": {
        "id": "NATRV7nuEOQE"
      }
    },
    {
      "cell_type": "code",
      "source": [
        "print(\"Tamaño del conjunto de datos: \")\n",
        "print(df.shape)\n",
        "\n",
        "print(\"\\nTipos de Datos: \")\n",
        "print(df.dtypes)\n",
        "\n",
        "print(\"Información general del conjunto de datos:\")\n",
        "print(df.info())\n",
        "\n",
        "print(\"\\n¿Cuántas variables de cada tipo tenemos? \")\n",
        "print(df.dtypes.value_counts())"
      ],
      "metadata": {
        "id": "WF9PhkHAK7vI"
      },
      "execution_count": null,
      "outputs": []
    },
    {
      "cell_type": "code",
      "source": [
        "print(\"Primeras filas del conjunto de datos: \")\n",
        "print(df.head(5))"
      ],
      "metadata": {
        "id": "bpnh-xkteU3e"
      },
      "execution_count": null,
      "outputs": []
    },
    {
      "cell_type": "code",
      "source": [
        "print(\"Descripción de todas las columnas: \")\n",
        "df.describe(include='all')"
      ],
      "metadata": {
        "id": "LleRzwVMeEvG"
      },
      "execution_count": null,
      "outputs": []
    },
    {
      "cell_type": "code",
      "source": [
        "print(\"Descripción de las variables numéricas: \")\n",
        "df.describe(include=[np.number])"
      ],
      "metadata": {
        "id": "ncc-3lQ1eGBO"
      },
      "execution_count": null,
      "outputs": []
    },
    {
      "cell_type": "code",
      "source": [
        "print(\"Descripción de las variables categóricas: \")\n",
        "df.describe(include=object)"
      ],
      "metadata": {
        "id": "Vvc6EchieIse"
      },
      "execution_count": null,
      "outputs": []
    },
    {
      "cell_type": "markdown",
      "source": [
        "Análisis de valores nulos:"
      ],
      "metadata": {
        "id": "0dlDY7TIDxW_"
      }
    },
    {
      "cell_type": "code",
      "source": [
        "print(\"Valores nulos explícitos: \")\n",
        "print(df.isnull().any())\n",
        "\n",
        "print(\"\\nDe tener observaciones con valores nulos, ¿cuántas por cada varible? \")\n",
        "print(df.isnull().sum())\n",
        "\n",
        "print(\"\\nValores nulos totales en el conjunto de datos: \")\n",
        "print(df.isnull().sum().sum())\n",
        "\n",
        "print(\"\\nProporción de valores nulos por cada variable: \")\n",
        "df.isnull().melt().pipe(\n",
        "    lambda f: (\n",
        "        sns.displot(\n",
        "            data=f,\n",
        "            y='variable',\n",
        "            hue='value',\n",
        "            multiple='fill',\n",
        "            aspect=2\n",
        "        )\n",
        "    )\n",
        ")"
      ],
      "metadata": {
        "id": "FHZQ3-I5IUns"
      },
      "execution_count": null,
      "outputs": []
    },
    {
      "cell_type": "code",
      "source": [
        "print(\"\\nVisualizar valores nulos en todo el conjunto de datos\")\n",
        "df.isnull().transpose().pipe(\n",
        "    lambda f: (\n",
        "        sns.heatmap(\n",
        "            data=f\n",
        "        )\n",
        "    )\n",
        ")"
      ],
      "metadata": {
        "id": "xcAwutw3I3ew"
      },
      "execution_count": null,
      "outputs": []
    },
    {
      "cell_type": "markdown",
      "source": [
        "Valores únicos:"
      ],
      "metadata": {
        "id": "W9d8GzHfd42H"
      }
    },
    {
      "cell_type": "code",
      "source": [
        "# Valores únicos en cada columna\n",
        "print(\"\\nValores únicos en cada columna:\")\n",
        "for column in df.columns:\n",
        "    unique_values = df[column].nunique()\n",
        "    print(f\"{column}: {unique_values} valores únicos\")"
      ],
      "metadata": {
        "id": "9e3nR4bvd7bc"
      },
      "execution_count": null,
      "outputs": []
    },
    {
      "cell_type": "markdown",
      "source": [
        "Visualizaciones exploratorias:"
      ],
      "metadata": {
        "id": "0QvtsDG-e-J7"
      }
    },
    {
      "cell_type": "code",
      "source": [
        "# Histogramas de las variables\n",
        "data.hist(bins=20, figsize=(12, 8))\n",
        "plt.show()"
      ],
      "metadata": {
        "id": "9Ep7MNzXz7d4"
      },
      "execution_count": null,
      "outputs": []
    },
    {
      "cell_type": "code",
      "source": [
        "# Visualizar conteos\n",
        "custom_colors = ['#0072B5', '#F28424', '#4E2A84', '#34A853', '#FF5900', '#A8A8A8', '#00A1DE', '#E62963', '#43B02A', '#956B9D', '#FF0000']\n",
        "ax = df['Manufacturer'].value_counts().plot(kind='bar', color=custom_colors)\n",
        "\n",
        "# Inclinar las etiquetas del eje x en 45 grados\n",
        "ax.set_xticklabels(ax.get_xticklabels(), rotation=50)"
      ],
      "metadata": {
        "id": "5ASC2jmRA4FU"
      },
      "execution_count": null,
      "outputs": []
    },
    {
      "cell_type": "code",
      "source": [
        "# Visualización de conteo con Seaborn\n",
        "print(\"Visualización de conteo con Seaborn\")\n",
        "ax = df.value_counts('Manufacturer', sort=True).reset_index(name='count').pipe(\n",
        "    lambda df: (\n",
        "        sns.barplot(\n",
        "            data=df,\n",
        "            x='Manufacturer',\n",
        "            y='count',\n",
        "            palette=custom_colors,\n",
        "            )\n",
        "        )\n",
        "    )\n",
        "ax.set_xticklabels(ax.get_xticklabels(), rotation=50)"
      ],
      "metadata": {
        "id": "arggK99EBQN0"
      },
      "execution_count": null,
      "outputs": []
    },
    {
      "cell_type": "markdown",
      "source": [
        "Limpieza de datos"
      ],
      "metadata": {
        "id": "5oIU6eGGf3RV"
      }
    },
    {
      "cell_type": "code",
      "source": [
        "# Eliminamos las columnas innecesarias\n",
        "df = df.drop(\"SalesOrderID\", axis='columns')\n",
        "df = df.drop(\"ProdID\", axis='columns')\n",
        "df = df.drop(\"StyleName\", axis='columns')\n",
        "df = df.drop(\"CustomerAccountNumber\", axis='columns')\n",
        "df = df.drop(\"StoreKey\", axis='columns')\n",
        "df = df.drop(\"ProductLabel\", axis='columns')\n",
        "df = df.drop(\"ProductDescription\", axis='columns')\n",
        "df = df.drop(\"Sale Size\", axis='columns')\n",
        "df = df.drop(\"Sales Size Sort\", axis='columns')\n",
        "print(\"Columnas conservadas: \")\n",
        "print(df.columns)"
      ],
      "metadata": {
        "colab": {
          "base_uri": "https://localhost:8080/"
        },
        "id": "zH65C0U1XX7y",
        "outputId": "47f7965b-b696-45bd-a693-1e61c38ccc88"
      },
      "execution_count": null,
      "outputs": [
        {
          "output_type": "stream",
          "name": "stdout",
          "text": [
            "Columnas conservadas: \n",
            "Index(['Country', 'OrderDate', 'SalesChannelCode', 'Manufacturer',\n",
            "       'Brand Name', 'Class', 'Color', 'StockType', 'Units', 'Sales Amount',\n",
            "       'NSAT', 'SubCategory', 'Category', 'ProductName', 'Unit Cost',\n",
            "       'Unit Price', 'SalesTax', 'Freight', 'PurchAgain'],\n",
            "      dtype='object')\n"
          ]
        }
      ]
    },
    {
      "cell_type": "code",
      "source": [
        "# Limpiar el símbolo \"$\" y convertir 'Sales Amount' a entero (int)\n",
        "df['Sales Amount'] = pd.to_numeric(df['Sales Amount'].str.replace('$', ''), errors='coerce', downcast='integer')"
      ],
      "metadata": {
        "colab": {
          "base_uri": "https://localhost:8080/"
        },
        "id": "_YS3UJsFf92U",
        "outputId": "3be9ee40-596d-4626-fb62-b760eb74e098"
      },
      "execution_count": null,
      "outputs": [
        {
          "output_type": "stream",
          "name": "stderr",
          "text": [
            "<ipython-input-4-401eb61a92e4>:2: FutureWarning: The default value of regex will change from True to False in a future version. In addition, single character regular expressions will *not* be treated as literal strings when regex=True.\n",
            "  df['Sales Amount'] = pd.to_numeric(df['Sales Amount'].str.replace('$', ''), errors='coerce', downcast='integer')\n"
          ]
        }
      ]
    },
    {
      "cell_type": "code",
      "source": [
        "# Añadir y representar variable categórica de 'sales_channel_code (canal de comercialización) como variable numérica discreta de resultado binario\n",
        "df = df.assign(\n",
        "    sales_channel_code=lambda df: df['SalesChannelCode'].replace(['I', 'S'], ['Internet', 'Tienda Física'])\n",
        ")\n",
        "value_counts = df['sales_channel_code'].value_counts()\n",
        "print(value_counts)"
      ],
      "metadata": {
        "id": "0nr6emaZguRO"
      },
      "execution_count": null,
      "outputs": []
    },
    {
      "cell_type": "code",
      "source": [
        "# Convertir la columna de 'Año' a valores numéricos (suponiendo que representa años)\n",
        "df['OrderDate'] = pd.to_datetime(df['OrderDate'], errors='coerce').dt.year"
      ],
      "metadata": {
        "id": "RCddf-dnhDan"
      },
      "execution_count": null,
      "outputs": []
    },
    {
      "cell_type": "markdown",
      "source": [
        "Visualizaciones estadísticas y de distribución:"
      ],
      "metadata": {
        "id": "ao7lon-kgAm4"
      }
    },
    {
      "cell_type": "code",
      "source": [
        "print(\"Promedios de cada columna del dataframe: \")\n",
        "print(df.mean().round(2))\n",
        "\n",
        "print(\"\\nMedia o promedio de Monto de Ventas:\" )\n",
        "print(df['Sales Amount'].mean().round(2))\n",
        "\n",
        "print(\"\\nMediana de Monto de Ventas: \")\n",
        "print(df['Sales Amount'].median())\n",
        "\n",
        "print(\"\\nModa de Monto de Ventas: \")\n",
        "print(df['Sales Amount'].mode())"
      ],
      "metadata": {
        "id": "UFZTtaOCa_ov"
      },
      "execution_count": null,
      "outputs": []
    },
    {
      "cell_type": "code",
      "source": [
        "print(\"Valor máximo de las variables: \")\n",
        "print(df.max(numeric_only=True))\n",
        "\n",
        "print(\"\\nValor mínimo de las variables: \")\n",
        "print(df.min(numeric_only=True))"
      ],
      "metadata": {
        "id": "TCTCC_uMhoAJ"
      },
      "execution_count": null,
      "outputs": []
    },
    {
      "cell_type": "code",
      "source": [
        "print(\"Intervalos del rango intercuartílico: \")\n",
        "df.quantile(q=[0.75,0.5,0.25]).transpose().rename_axis('variable').reset_index().assign(\n",
        "    iqr=lambda df: df[0.75] - df[0.25]\n",
        ")"
      ],
      "metadata": {
        "id": "Oo_JDyuYhYq6"
      },
      "execution_count": null,
      "outputs": []
    },
    {
      "cell_type": "code",
      "source": [
        "print(\"Visualizar distribución de una variable: \")\n",
        "sns.histplot(\n",
        "    data=df,\n",
        "    x='Sales Amount'\n",
        ")\n",
        "\n",
        "# Línea promedio\n",
        "plt.axvline(\n",
        "    x=df['Sales Amount'].mean(),\n",
        "    color='red',\n",
        "    linestyle='dashed',\n",
        "    linewidth=2)"
      ],
      "metadata": {
        "id": "Ex03O16-iDpE"
      },
      "execution_count": null,
      "outputs": []
    },
    {
      "cell_type": "code",
      "source": [
        "# Función de probabilidad de masas (PMFs) utilizando seaborn\n",
        "print(\"Función de probabilidad de masas: \")\n",
        "sns.histplot(\n",
        "    data=df,\n",
        "    x='Sales Amount',\n",
        "    binwidth=1,\n",
        "    stat='probability'\n",
        ")"
      ],
      "metadata": {
        "id": "fBif41dRijwc"
      },
      "execution_count": null,
      "outputs": []
    },
    {
      "cell_type": "code",
      "source": [
        "# Importamos la librería empiricaldist para graficar distribuciones\n",
        "!pip install empiricaldist\n",
        "import empiricaldist"
      ],
      "metadata": {
        "colab": {
          "base_uri": "https://localhost:8080/"
        },
        "id": "A-YacvcxjZQV",
        "outputId": "4f594263-9aca-4190-c389-9ea88887ccbc"
      },
      "execution_count": null,
      "outputs": [
        {
          "output_type": "stream",
          "name": "stdout",
          "text": [
            "Requirement already satisfied: empiricaldist in /usr/local/lib/python3.10/dist-packages (0.6.8)\n"
          ]
        }
      ]
    },
    {
      "cell_type": "code",
      "source": [
        "# PMFs utilizando empiricaldist\n",
        "pmf_sales_amount = empiricaldist.Pmf.from_seq(\n",
        "    df['Sales Amount'],\n",
        "    normalize=True\n",
        ")\n",
        "pmf_sales_amount.bar()"
      ],
      "metadata": {
        "id": "k6nDQ1qOiu0F"
      },
      "execution_count": null,
      "outputs": []
    },
    {
      "cell_type": "code",
      "source": [
        "# Utilizando PMFs para un valor específico\n",
        "print(\"Función de probabilidad de masas en el valor '200': \")\n",
        "print(pmf_sales_amount(200))\n",
        "\n",
        "# Comprobando valor máximo\n",
        "print(\"\\nValor máximo de la función de probabilidad de masas: \")\n",
        "print(pmf_sales_amount.max())"
      ],
      "metadata": {
        "id": "ln2igzlUkLBD"
      },
      "execution_count": null,
      "outputs": []
    },
    {
      "cell_type": "code",
      "source": [
        "# Función empírica de probabilidad acumulada (ECDFs)\n",
        "sns.ecdfplot(\n",
        "    data=df,\n",
        "    x='Sales Amount'\n",
        ")"
      ],
      "metadata": {
        "id": "3xoPCz6bl-yI"
      },
      "execution_count": null,
      "outputs": []
    },
    {
      "cell_type": "code",
      "source": [
        "# ECDFs utilizando empiricaldist\n",
        "cdf_sales_amount = empiricaldist.Cdf.from_seq(\n",
        "    df['Sales Amount'],\n",
        "    normalize=True\n",
        ")\n",
        "cdf_sales_amount.plot()\n",
        "\n",
        "# Calcular probabilidad acumulada para un valor\n",
        "q = 200\n",
        "p = cdf_sales_amount.forward(q)\n",
        "\n",
        "print(\"q:\", q, \"\\np:\", p, \"\\n\")\n",
        "\n",
        "# Añadiendo líneas guía\n",
        "plt.vlines(\n",
        "    x=q,\n",
        "    ymin=0,\n",
        "    ymax=p,\n",
        "    color='black',\n",
        "    linestyle='dashed'\n",
        ")\n",
        "\n",
        "plt.hlines(\n",
        "    y=p,\n",
        "    xmin=pmf_sales_amount.qs[0],\n",
        "    xmax=q,\n",
        "    color='black',\n",
        "   linestyle='dashed'\n",
        ")\n",
        "\n",
        "plt.plot(q, p, 'ro')"
      ],
      "metadata": {
        "id": "oTH5rGm0B6Jn"
      },
      "execution_count": null,
      "outputs": []
    },
    {
      "cell_type": "code",
      "source": [
        "# ECDFs con quantiles\n",
        "cdf_sales_amount.step()\n",
        "p_1 = 0.25 # Specify probability\n",
        "p_2 = 0.75\n",
        "ps = (0.25, 0.75) # IQR\n",
        "qs = cdf_sales_amount.inverse(ps)\n",
        "plt.vlines(\n",
        "    x=qs,\n",
        "    ymin=0,\n",
        "    ymax=ps,\n",
        "    color='black',\n",
        "    linestyle='dashed'\n",
        ")\n",
        "\n",
        "plt.hlines(\n",
        "   y=ps,\n",
        "   xmin=pmf_sales_amount.qs[0],\n",
        "   xmax=qs,\n",
        "   color='black',\n",
        "   linestyle='dashed'\n",
        ")\n",
        "\n",
        "plt.scatter(\n",
        "   x=qs,\n",
        "   y=ps,\n",
        "   color='red',\n",
        "   zorder=2\n",
        ")"
      ],
      "metadata": {
        "id": "VU3dQMPfmWZT"
      },
      "execution_count": null,
      "outputs": []
    },
    {
      "cell_type": "code",
      "source": [
        "# Comparar distribuciones\n",
        "sns.ecdfplot(\n",
        "    data=df,\n",
        "    x='Sales Amount',\n",
        "    hue='Country',\n",
        "    palette=custom_colors\n",
        ")"
      ],
      "metadata": {
        "id": "DEZQDmO5pAKC"
      },
      "execution_count": null,
      "outputs": []
    },
    {
      "cell_type": "code",
      "source": [
        "# Función de densidad de probabilidad -PMF-\n",
        "sns.kdeplot(\n",
        "    data=df,\n",
        "    x='Sales Amount',\n",
        "    bw_method=0.1\n",
        ")"
      ],
      "metadata": {
        "id": "CZk76n_CpUvx"
      },
      "execution_count": null,
      "outputs": []
    },
    {
      "cell_type": "code",
      "source": [
        "# Estadísticas de la variable 'Sales Amount'\n",
        "stats = df['Sales Amount'].describe()\n",
        "stats"
      ],
      "metadata": {
        "id": "ZFk9jugBphSF"
      },
      "execution_count": null,
      "outputs": []
    },
    {
      "cell_type": "code",
      "source": [
        "# Función de distribución acumulada de una variable -CDF-\n",
        "xs = np.linspace(stats['min'], stats['max'])\n",
        "ys = scipy.stats.norm(stats['mean'], stats['std']).cdf(xs)\n",
        "\n",
        "# Visualizando la función CDF:\n",
        "plt.plot(xs, ys, color='black', linestyle='dashed')\n",
        "\n",
        "empiricaldist.Cdf.from_seq(\n",
        "    df['Sales Amount'],\n",
        "    normalize=True\n",
        ").plot()"
      ],
      "metadata": {
        "id": "f4DuE6W6ptYu"
      },
      "execution_count": null,
      "outputs": []
    },
    {
      "cell_type": "code",
      "source": [
        "# Función de densidad de probabilidad de una variable -PDF-\n",
        "xs = np.linspace(stats['min'], stats['max'])\n",
        "ys = scipy.stats.norm(stats['mean'], stats['std']).pdf(xs)\n",
        "\n",
        "# Visualizando la función PDF:\n",
        "plt.plot(xs, ys, color='black', linestyle='dashed')\n",
        "\n",
        "sns.kdeplot(\n",
        "    data=df,\n",
        "    x='Sales Amount'\n",
        ")"
      ],
      "metadata": {
        "id": "42TFvVuAEqTn"
      },
      "execution_count": null,
      "outputs": []
    },
    {
      "cell_type": "markdown",
      "source": [
        "Estableciendo relaciones:"
      ],
      "metadata": {
        "id": "u1YSkpGdg403"
      }
    },
    {
      "cell_type": "code",
      "source": [
        "# Gráfica de puntos\n",
        "sns.scatterplot(\n",
        "    data=df,\n",
        "    x='Country',\n",
        "    y='Sales Amount',\n",
        "    hue='sales_channel_code',\n",
        "    alpha=1/2, #transparencia\n",
        "    s=5 #tamaño de los puntos\n",
        ")"
      ],
      "metadata": {
        "id": "BkLMlIrTFFYF"
      },
      "execution_count": null,
      "outputs": []
    },
    {
      "cell_type": "code",
      "source": [
        "# Histograma 2D\n",
        "g = sns.displot(\n",
        "    data=df,\n",
        "    x='Country',\n",
        "    y='Sales Amount',\n",
        "    hue='sales_channel_code',\n",
        "    rug=True\n",
        "    )\n",
        "g.set_axis_labels('Country', 'Sales Amount')\n",
        "plt.xticks(rotation=50)"
      ],
      "metadata": {
        "id": "yJh-fGxTYtv1"
      },
      "execution_count": null,
      "outputs": []
    },
    {
      "cell_type": "markdown",
      "source": [
        "# Verificar la cantidad de datos antes de la división\n"
      ],
      "metadata": {
        "id": "geB2vrpwMI8I"
      }
    },
    {
      "cell_type": "code",
      "source": [
        "print(\"Número total de filas:\", len(df))"
      ],
      "metadata": {
        "id": "9F1Sp5sxMLnr"
      },
      "execution_count": null,
      "outputs": []
    },
    {
      "cell_type": "markdown",
      "source": [
        "\n",
        "\n",
        "# Verificar los tipos de datos después de la conversión\n"
      ],
      "metadata": {
        "id": "wVQBmJt6-lu9"
      }
    },
    {
      "cell_type": "code",
      "source": [
        "print(df.dtypes)"
      ],
      "metadata": {
        "id": "KMFwvMnq-okK"
      },
      "execution_count": null,
      "outputs": []
    },
    {
      "cell_type": "markdown",
      "source": [
        "# Preparar los datos\n"
      ],
      "metadata": {
        "id": "GcdHUTptyXu_"
      }
    },
    {
      "cell_type": "code",
      "source": [
        "X = df['OrderDate'].values.reshape(-1, 1)  # Característica: Orderdate\n",
        "y = df['SalesOrderID'].values  # Variable objetivo: SalesOrderID"
      ],
      "metadata": {
        "id": "88vccMYP8Iwf"
      },
      "execution_count": null,
      "outputs": []
    },
    {
      "cell_type": "markdown",
      "source": [
        "# Dividir los datos en conjuntos de entrenamiento y prueba\n"
      ],
      "metadata": {
        "id": "ZJpQCVhN9Sw0"
      }
    },
    {
      "cell_type": "code",
      "source": [
        "X_train, X_test, y_train, y_test = train_test_split(X, y, test_size=0.2, random_state=42)"
      ],
      "metadata": {
        "id": "6ZnuxkOHLtKQ"
      },
      "execution_count": null,
      "outputs": []
    },
    {
      "cell_type": "markdown",
      "source": [
        "# Crear un modelo de regresión lineal\n"
      ],
      "metadata": {
        "id": "tvIrwn_4JPF0"
      }
    },
    {
      "cell_type": "code",
      "source": [
        "model = LinearRegression()"
      ],
      "metadata": {
        "id": "pT0w_RYYJRW2"
      },
      "execution_count": null,
      "outputs": []
    },
    {
      "cell_type": "markdown",
      "source": [
        "# Entrenar el modelo con los datos de entrenamiento\n"
      ],
      "metadata": {
        "id": "kWNiWM_bJTvM"
      }
    },
    {
      "cell_type": "code",
      "source": [
        "model.fit(X_train, y_train)"
      ],
      "metadata": {
        "id": "JobaaIOIJY7d"
      },
      "execution_count": null,
      "outputs": []
    },
    {
      "cell_type": "markdown",
      "source": [
        "# Realizar predicciones\n"
      ],
      "metadata": {
        "id": "ad-CWCbDanlI"
      }
    },
    {
      "cell_type": "code",
      "source": [
        "predictions = model.predict(X_test)"
      ],
      "metadata": {
        "id": "9Q6Bujrqapg4"
      },
      "execution_count": null,
      "outputs": []
    },
    {
      "cell_type": "markdown",
      "source": [
        "# Visualizar los resultados\n"
      ],
      "metadata": {
        "id": "5__hyLJ4a6j4"
      }
    },
    {
      "cell_type": "code",
      "source": [
        "plt.scatter(X_test, y_test, color='blue', label='Datos reales')\n",
        "plt.plot(X_test, predictions, color='red', label='Regresión lineal')\n",
        "plt.title('Regresión Lineal de Ventas en función del OrderDate')\n",
        "plt.xlabel('OrderDate')\n",
        "plt.ylabel('SalenOrderID')\n",
        "plt.legend()\n",
        "plt.show()"
      ],
      "metadata": {
        "id": "qdlqfVFsa8um"
      },
      "execution_count": null,
      "outputs": []
    }
  ]
}